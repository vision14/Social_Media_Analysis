{
 "cells": [
  {
   "cell_type": "code",
   "execution_count": 1,
   "id": "177ef3b5",
   "metadata": {},
   "outputs": [],
   "source": [
    "import pandas as pd\n",
    "import fasttext\n",
    "import random\n",
    "import re\n",
    "import preprocessor as p\n",
    "import emoji\n",
    "import codecs\n",
    "from nltk.corpus import stopwords\n",
    "from nltk.stem import WordNetLemmatizer\n",
    "stopwords = set(stopwords.words('english')) - set(['no', 'not'])"
   ]
  },
  {
   "cell_type": "code",
   "execution_count": 2,
   "id": "9e901517",
   "metadata": {},
   "outputs": [],
   "source": [
    "contractions = { \n",
    "\"ain't\": \"am not\",\n",
    "\"aren't\": \"are not\",\n",
    "\"can't\": \"cannot\",\n",
    "\"can't've\": \"cannot have\",\n",
    "\"'cause\": \"because\",\n",
    "\"could've\": \"could have\",\n",
    "\"couldn't\": \"could not\",\n",
    "\"couldn't've\": \"could not have\",\n",
    "\"didn't\": \"did not\",\n",
    "\"doesn't\": \"does not\",\n",
    "\"don't\": \"do not\",\n",
    "\"hadn't\": \"had not\",\n",
    "\"hadn't've\": \"had not have\",\n",
    "\"hasn't\": \"has not\",\n",
    "\"haven't\": \"have not\",\n",
    "\"he'd\": \"he had\",\n",
    "\"he'd've\": \"he would have\",\n",
    "\"he'll\": \"he will\",\n",
    "\"he'll've\": \"he will have\",\n",
    "\"he's\": \"he is\",\n",
    "\"how'd\": \"how did\",\n",
    "\"how'd'y\": \"how do you\",\n",
    "\"how'll\": \"how will\",\n",
    "\"how's\": \"how is\",\n",
    "\"i'd\": \"i would\",\n",
    "\"i'd've\": \"i would have\",\n",
    "\"i'll\": \"i will\",\n",
    "\"i'll've\": \"i will have\",\n",
    "\"i'm\": \"i am\",\n",
    "\"i've\": \"i have\",\n",
    "\"isn't\": \"is not\",\n",
    "\"it'd\": \"it would\",\n",
    "\"it'd've\": \"it would have\",\n",
    "\"it'll\": \"it will\",\n",
    "\"it'll've\": \"it will have\",\n",
    "\"it's\": \"it is\",\n",
    "\"let's\": \"let us\",\n",
    "\"ma'am\": \"madam\",\n",
    "\"mayn't\": \"may not\",\n",
    "\"might've\": \"might have\",\n",
    "\"mightn't\": \"might not\",\n",
    "\"mightn't've\": \"might not have\",\n",
    "\"must've\": \"must have\",\n",
    "\"mustn't\": \"must not\",\n",
    "\"mustn't've\": \"must not have\",\n",
    "\"needn't\": \"need not\",\n",
    "\"needn't've\": \"need not have\",\n",
    "\"o'clock\": \"of the clock\",\n",
    "\"oughtn't\": \"ought not\",\n",
    "\"oughtn't've\": \"ought not have\",\n",
    "\"shan't\": \"shall not\",\n",
    "\"sha'n't\": \"shall not\",\n",
    "\"shan't've\": \"shall not have\",\n",
    "\"she'd\": \"she would\",\n",
    "\"she'd've\": \"she would have\",\n",
    "\"she'll\": \"she will\",\n",
    "\"she'll've\": \"she will have\",\n",
    "\"she's\": \"she is\",\n",
    "\"should've\": \"should have\",\n",
    "\"shouldn't\": \"should not\",\n",
    "\"shouldn't've\": \"should not have\",\n",
    "\"so've\": \"so have\",\n",
    "\"so's\": \"so is\",\n",
    "\"that'd\": \"that would\",\n",
    "\"that'd've\": \"that would have\",\n",
    "\"that's\": \"that is\",\n",
    "\"there'd\": \"there would\",\n",
    "\"there'd've\": \"there would have\",\n",
    "\"there's\": \"there is\",\n",
    "\"they'd\": \"they would\",\n",
    "\"they'd've\": \"they would have\",\n",
    "\"they'll\": \"they will\",\n",
    "\"they'll've\": \"they will have\",\n",
    "\"they're\": \"they are\",\n",
    "\"they've\": \"they have\",\n",
    "\"to've\": \"to have\",\n",
    "\"wasn't\": \"was not\",\n",
    "\"we'd\": \"we would\",\n",
    "\"we'd've\": \"we would have\",\n",
    "\"we'll\": \"we will\",\n",
    "\"we'll've\": \"we will have\",\n",
    "\"we're\": \"we are\",\n",
    "\"we've\": \"we have\",\n",
    "\"weren't\": \"were not\",\n",
    "\"what'll\": \"what will\",\n",
    "\"what'll've\": \"what will have\",\n",
    "\"what're\": \"what are\",\n",
    "\"what's\": \"what is\",\n",
    "\"what've\": \"what have\",\n",
    "\"when's\": \"when is\",\n",
    "\"when've\": \"when have\",\n",
    "\"where'd\": \"where did\",\n",
    "\"where's\": \"where is\",\n",
    "\"where've\": \"where have\",\n",
    "\"who'll\": \"who will\",\n",
    "\"who'll've\": \"who will have\",\n",
    "\"who's\": \"who is\",\n",
    "\"who've\": \"who have\",\n",
    "\"why's\": \"why is\",\n",
    "\"why've\": \"why have\",\n",
    "\"will've\": \"will have\",\n",
    "\"won't\": \"will not\",\n",
    "\"won't've\": \"will not have\",\n",
    "\"would've\": \"would have\",\n",
    "\"wouldn't\": \"would not\",\n",
    "\"wouldn't've\": \"would not have\",\n",
    "\"y'all\": \"you all\",\n",
    "\"y'all'd\": \"you all would\",\n",
    "\"y'all'd've\": \"you all would have\",\n",
    "\"y'all're\": \"you all are\",\n",
    "\"y'all've\": \"you all have\",\n",
    "\"you'd\": \"you would\",\n",
    "\"you'd've\": \"you would have\",\n",
    "\"you'll\": \"you will\",\n",
    "\"you'll've\": \"you will have\",\n",
    "\"you're\": \"you are\",\n",
    "\"you've\": \"you have\",\n",
    "}"
   ]
  },
  {
   "cell_type": "code",
   "execution_count": 3,
   "id": "7abc824a",
   "metadata": {},
   "outputs": [],
   "source": [
    "dataset = pd.read_csv('sentiment.csv')"
   ]
  },
  {
   "cell_type": "code",
   "execution_count": 4,
   "id": "cee53157",
   "metadata": {},
   "outputs": [
    {
     "data": {
      "text/plain": [
       "array([ 1, -1,  0], dtype=int64)"
      ]
     },
     "execution_count": 4,
     "metadata": {},
     "output_type": "execute_result"
    }
   ],
   "source": [
    "dataset[\"Sentiment\"].unique()"
   ]
  },
  {
   "cell_type": "code",
   "execution_count": 5,
   "id": "9a256233",
   "metadata": {},
   "outputs": [],
   "source": [
    "def model_train(dataframe):\n",
    "    one_text = []\n",
    "    mone_text = []\n",
    "    zero_text = []\n",
    "    for i, v in enumerate(dataframe.loc[:, \"Sentiment\"].values):\n",
    "        if v == 1:\n",
    "            one_text.append(\"__label__positive \" + dataframe.loc[i, \"Text\"] + \"\\n\")\n",
    "        elif v == -1:\n",
    "            mone_text.append(\"__label__negative \" + dataframe.loc[i, \"Text\"] + \"\\n\")\n",
    "        else:\n",
    "            zero_text.append(\"__label__neutral \" + dataframe.loc[i, \"Text\"] + \"\\n\")\n",
    "    training_txt = one_text[:2394] + mone_text[:2394] + zero_text[:2394]\n",
    "    random.shuffle(training_txt)\n",
    "    training_txt = ''.join(training_txt)\n",
    "    val_txt = one_text[2394:3192] + mone_text[2394:3192] + zero_text[2394:3192]\n",
    "    random.shuffle(val_txt)\n",
    "    val_txt = ''.join(val_txt)\n",
    "    test_txt = one_text[3192:] + mone_text[3192:] + zero_text[3192:]\n",
    "    random.shuffle(test_txt)\n",
    "    test_txt = ''.join(test_txt)\n",
    "    with open('sentiment.train', 'w', encoding='utf-8') as file:\n",
    "        file.write(training_txt)\n",
    "\n",
    "    with open('sentiment.valid', 'w', encoding='utf-8') as file:\n",
    "        file.write(val_txt)\n",
    "\n",
    "    with open('sentiment.test', 'w', encoding='utf-8') as file:\n",
    "        file.write(test_txt)\n",
    "    model = fasttext.train_supervised(input='sentiment.train', autotuneValidationFile='sentiment.valid', autotuneDuration=60)\n",
    "    result = model.test('sentiment.test')\n",
    "    return model, result"
   ]
  },
  {
   "cell_type": "code",
   "execution_count": 6,
   "id": "e20278ad",
   "metadata": {},
   "outputs": [
    {
     "data": {
      "text/plain": [
       "(2394, 0.7786131996658312, 0.7786131996658312)"
      ]
     },
     "execution_count": 6,
     "metadata": {},
     "output_type": "execute_result"
    }
   ],
   "source": [
    "model, result = model_train(dataset)\n",
    "result"
   ]
  },
  {
   "cell_type": "code",
   "execution_count": 7,
   "id": "e7eb6910",
   "metadata": {},
   "outputs": [
    {
     "data": {
      "text/plain": [
       "(2394, 0.7393483709273183, 0.7393483709273183)"
      ]
     },
     "execution_count": 7,
     "metadata": {},
     "output_type": "execute_result"
    }
   ],
   "source": [
    "dataset = pd.read_csv('sentiment.csv')\n",
    "for i, v in enumerate(dataset.loc[:, \"Text\"].values):\n",
    "    v = v.lower()\n",
    "    dataset.loc[i, \"Text\"] = v\n",
    "model, result = model_train(dataset)\n",
    "result"
   ]
  },
  {
   "cell_type": "code",
   "execution_count": 8,
   "id": "f2c02dab",
   "metadata": {},
   "outputs": [
    {
     "data": {
      "text/plain": [
       "(2394, 0.7652464494569757, 0.7652464494569757)"
      ]
     },
     "execution_count": 8,
     "metadata": {},
     "output_type": "execute_result"
    }
   ],
   "source": [
    "dataset = pd.read_csv('sentiment.csv')\n",
    "for i, v in enumerate(dataset.loc[:, \"Text\"].values):\n",
    "    v = v.replace('#', ' ')\n",
    "    v = v.replace('@', ' ')\n",
    "    v = p.clean(v)\n",
    "    dataset.loc[i, \"Text\"] = v\n",
    "model, result = model_train(dataset)\n",
    "result"
   ]
  },
  {
   "cell_type": "code",
   "execution_count": 9,
   "id": "785f4c8e",
   "metadata": {},
   "outputs": [
    {
     "data": {
      "text/plain": [
       "(2394, 0.7827903091060986, 0.7827903091060986)"
      ]
     },
     "execution_count": 9,
     "metadata": {},
     "output_type": "execute_result"
    }
   ],
   "source": [
    "dataset = pd.read_csv('sentiment.csv')\n",
    "for i, v in enumerate(dataset.loc[:, \"Text\"].values):\n",
    "    v = v.replace(\"’\", \"'\")\n",
    "    for key in contractions:\n",
    "        if key in v:\n",
    "            v = re.sub(key, contractions[key], v)\n",
    "    dataset.loc[i, \"Text\"] = v\n",
    "model, result = model_train(dataset)\n",
    "result"
   ]
  },
  {
   "cell_type": "code",
   "execution_count": 10,
   "id": "32dfce11",
   "metadata": {},
   "outputs": [
    {
     "name": "stderr",
     "output_type": "stream",
     "text": [
      "c:\\users\\pooja\\appdata\\local\\programs\\python\\python37\\lib\\site-packages\\ipykernel_launcher.py:3: DeprecationWarning: invalid escape sequence '\\ '\n",
      "  This is separate from the ipykernel package so we can avoid doing imports until\n"
     ]
    },
    {
     "data": {
      "text/plain": [
       "(2394, 0.7844611528822055, 0.7844611528822055)"
      ]
     },
     "execution_count": 10,
     "metadata": {},
     "output_type": "execute_result"
    }
   ],
   "source": [
    "dataset = pd.read_csv('sentiment.csv')\n",
    "for i, v in enumerate(dataset.loc[:, \"Text\"].values):\n",
    "    v = codecs.decode(v, 'unicode_escape')\n",
    "    v = emoji.demojize(v.encode('utf-16', 'surrogatepass').decode('utf-16'))\n",
    "    dataset.loc[i, \"Text\"] = v\n",
    "model, result = model_train(dataset)\n",
    "result"
   ]
  },
  {
   "cell_type": "code",
   "execution_count": 11,
   "id": "8754229e",
   "metadata": {},
   "outputs": [
    {
     "data": {
      "text/plain": [
       "(2394, 0.7472848788638262, 0.7472848788638262)"
      ]
     },
     "execution_count": 11,
     "metadata": {},
     "output_type": "execute_result"
    }
   ],
   "source": [
    "dataset = pd.read_csv('sentiment.csv')\n",
    "for i, v in enumerate(dataset.loc[:, \"Text\"].values):\n",
    "    v = re.sub(\"[^a-z0-9 ]\", \" \", v).strip()\n",
    "    v = re.sub(\" +\", \" \", v)\n",
    "    dataset.loc[i, \"Text\"] = v\n",
    "model, result = model_train(dataset)\n",
    "result"
   ]
  },
  {
   "cell_type": "code",
   "execution_count": 12,
   "id": "84fb105f",
   "metadata": {},
   "outputs": [
    {
     "data": {
      "text/plain": [
       "(2394, 0.7560568086883876, 0.7560568086883876)"
      ]
     },
     "execution_count": 12,
     "metadata": {},
     "output_type": "execute_result"
    }
   ],
   "source": [
    "dataset = pd.read_csv('sentiment.csv')\n",
    "for i, v in enumerate(dataset.loc[:, \"Text\"].values):\n",
    "    temp_v = v.split()\n",
    "    l = WordNetLemmatizer()\n",
    "    v = [l.lemmatize(word) for word in temp_v if not word in stopwords]\n",
    "    v = ' '.join(v)\n",
    "    dataset.loc[i, \"Text\"] = v\n",
    "model, result = model_train(dataset)\n",
    "result"
   ]
  },
  {
   "cell_type": "code",
   "execution_count": null,
   "id": "3739c974",
   "metadata": {},
   "outputs": [],
   "source": []
  },
  {
   "cell_type": "code",
   "execution_count": null,
   "id": "06abe3a3",
   "metadata": {},
   "outputs": [],
   "source": []
  }
 ],
 "metadata": {
  "kernelspec": {
   "display_name": "Python 3 (ipykernel)",
   "language": "python",
   "name": "python3"
  },
  "language_info": {
   "codemirror_mode": {
    "name": "ipython",
    "version": 3
   },
   "file_extension": ".py",
   "mimetype": "text/x-python",
   "name": "python",
   "nbconvert_exporter": "python",
   "pygments_lexer": "ipython3",
   "version": "3.7.3"
  }
 },
 "nbformat": 4,
 "nbformat_minor": 5
}
