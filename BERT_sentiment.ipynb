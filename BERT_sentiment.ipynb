{
 "cells": [
  {
   "cell_type": "code",
   "execution_count": 1,
   "metadata": {},
   "outputs": [],
   "source": [
    "import pandas as pd\n",
    "import numpy as np\n",
    "from nltk.tokenize import word_tokenize\n",
    "from tqdm import tqdm\n",
    "import re\n",
    "import preprocessor as p\n",
    "import emoji\n",
    "import codecs\n",
    "from nltk.corpus import stopwords\n",
    "from nltk.stem import WordNetLemmatizer\n",
    "stopwords = set(stopwords.words('english')) - set(['no', 'not'])\n",
    "\n",
    "import shutil\n",
    "import tensorflow as tf\n",
    "import tensorflow_hub as hub\n",
    "import tensorflow_text as text\n",
    "from official.nlp import optimization\n",
    "tf.get_logger().setLevel('ERROR')"
   ]
  },
  {
   "cell_type": "code",
   "execution_count": 2,
   "metadata": {},
   "outputs": [],
   "source": [
    "contractions = { \n",
    "\"ain't\": \"am not\",\n",
    "\"aren't\": \"are not\",\n",
    "\"can't\": \"cannot\",\n",
    "\"can't've\": \"cannot have\",\n",
    "\"'cause\": \"because\",\n",
    "\"could've\": \"could have\",\n",
    "\"couldn't\": \"could not\",\n",
    "\"couldn't've\": \"could not have\",\n",
    "\"didn't\": \"did not\",\n",
    "\"doesn't\": \"does not\",\n",
    "\"don't\": \"do not\",\n",
    "\"hadn't\": \"had not\",\n",
    "\"hadn't've\": \"had not have\",\n",
    "\"hasn't\": \"has not\",\n",
    "\"haven't\": \"have not\",\n",
    "\"he'd\": \"he had\",\n",
    "\"he'd've\": \"he would have\",\n",
    "\"he'll\": \"he will\",\n",
    "\"he'll've\": \"he will have\",\n",
    "\"he's\": \"he is\",\n",
    "\"how'd\": \"how did\",\n",
    "\"how'd'y\": \"how do you\",\n",
    "\"how'll\": \"how will\",\n",
    "\"how's\": \"how is\",\n",
    "\"i'd\": \"i would\",\n",
    "\"i'd've\": \"i would have\",\n",
    "\"i'll\": \"i will\",\n",
    "\"i'll've\": \"i will have\",\n",
    "\"i'm\": \"i am\",\n",
    "\"i've\": \"i have\",\n",
    "\"isn't\": \"is not\",\n",
    "\"it'd\": \"it would\",\n",
    "\"it'd've\": \"it would have\",\n",
    "\"it'll\": \"it will\",\n",
    "\"it'll've\": \"it will have\",\n",
    "\"it's\": \"it is\",\n",
    "\"let's\": \"let us\",\n",
    "\"ma'am\": \"madam\",\n",
    "\"mayn't\": \"may not\",\n",
    "\"might've\": \"might have\",\n",
    "\"mightn't\": \"might not\",\n",
    "\"mightn't've\": \"might not have\",\n",
    "\"must've\": \"must have\",\n",
    "\"mustn't\": \"must not\",\n",
    "\"mustn't've\": \"must not have\",\n",
    "\"needn't\": \"need not\",\n",
    "\"needn't've\": \"need not have\",\n",
    "\"o'clock\": \"of the clock\",\n",
    "\"oughtn't\": \"ought not\",\n",
    "\"oughtn't've\": \"ought not have\",\n",
    "\"shan't\": \"shall not\",\n",
    "\"sha'n't\": \"shall not\",\n",
    "\"shan't've\": \"shall not have\",\n",
    "\"she'd\": \"she would\",\n",
    "\"she'd've\": \"she would have\",\n",
    "\"she'll\": \"she will\",\n",
    "\"she'll've\": \"she will have\",\n",
    "\"she's\": \"she is\",\n",
    "\"should've\": \"should have\",\n",
    "\"shouldn't\": \"should not\",\n",
    "\"shouldn't've\": \"should not have\",\n",
    "\"so've\": \"so have\",\n",
    "\"so's\": \"so is\",\n",
    "\"that'd\": \"that would\",\n",
    "\"that'd've\": \"that would have\",\n",
    "\"that's\": \"that is\",\n",
    "\"there'd\": \"there would\",\n",
    "\"there'd've\": \"there would have\",\n",
    "\"there's\": \"there is\",\n",
    "\"they'd\": \"they would\",\n",
    "\"they'd've\": \"they would have\",\n",
    "\"they'll\": \"they will\",\n",
    "\"they'll've\": \"they will have\",\n",
    "\"they're\": \"they are\",\n",
    "\"they've\": \"they have\",\n",
    "\"to've\": \"to have\",\n",
    "\"wasn't\": \"was not\",\n",
    "\"we'd\": \"we would\",\n",
    "\"we'd've\": \"we would have\",\n",
    "\"we'll\": \"we will\",\n",
    "\"we'll've\": \"we will have\",\n",
    "\"we're\": \"we are\",\n",
    "\"we've\": \"we have\",\n",
    "\"weren't\": \"were not\",\n",
    "\"what'll\": \"what will\",\n",
    "\"what'll've\": \"what will have\",\n",
    "\"what're\": \"what are\",\n",
    "\"what's\": \"what is\",\n",
    "\"what've\": \"what have\",\n",
    "\"when's\": \"when is\",\n",
    "\"when've\": \"when have\",\n",
    "\"where'd\": \"where did\",\n",
    "\"where's\": \"where is\",\n",
    "\"where've\": \"where have\",\n",
    "\"who'll\": \"who will\",\n",
    "\"who'll've\": \"who will have\",\n",
    "\"who's\": \"who is\",\n",
    "\"who've\": \"who have\",\n",
    "\"why's\": \"why is\",\n",
    "\"why've\": \"why have\",\n",
    "\"will've\": \"will have\",\n",
    "\"won't\": \"will not\",\n",
    "\"won't've\": \"will not have\",\n",
    "\"would've\": \"would have\",\n",
    "\"wouldn't\": \"would not\",\n",
    "\"wouldn't've\": \"would not have\",\n",
    "\"y'all\": \"you all\",\n",
    "\"y'all'd\": \"you all would\",\n",
    "\"y'all'd've\": \"you all would have\",\n",
    "\"y'all're\": \"you all are\",\n",
    "\"y'all've\": \"you all have\",\n",
    "\"you'd\": \"you would\",\n",
    "\"you'd've\": \"you would have\",\n",
    "\"you'll\": \"you will\",\n",
    "\"you'll've\": \"you will have\",\n",
    "\"you're\": \"you are\",\n",
    "\"you've\": \"you have\",\n",
    "}"
   ]
  },
  {
   "cell_type": "code",
   "execution_count": 3,
   "metadata": {},
   "outputs": [],
   "source": [
    "def write_files(dataframe):\n",
    "    print(\"Writing files...\")\n",
    "    for i in tqdm(range(len(dataframe.loc[:, \"Text\"].values))):\n",
    "        if i < len(dataframe.loc[:, \"Text\"].values)*0.7:\n",
    "            if dataframe.loc[i, \"Sentiment\"] == 1:\n",
    "                file_name = str(i) + \".txt\"\n",
    "                with open('sentiment/train/pos/'+file_name, 'w', encoding='utf-8') as f:\n",
    "                    f.write(dataframe.loc[i, \"Text\"])\n",
    "            elif dataframe.loc[i, \"Sentiment\"] == -1:\n",
    "                file_name = str(i) + \".txt\"\n",
    "                with open('sentiment/train/neg/'+file_name, 'w', encoding='utf-8') as f:\n",
    "                    f.write(dataframe.loc[i, \"Text\"])\n",
    "            else:\n",
    "                file_name = str(i) + \".txt\"\n",
    "                with open('sentiment/train/neu/'+file_name, 'w', encoding='utf-8') as f:\n",
    "                    f.write(dataframe.loc[i, \"Text\"])\n",
    "        else:\n",
    "            if dataframe.loc[i, \"Sentiment\"] == 1:\n",
    "                file_name = str(i) + \".txt\"\n",
    "                with open('sentiment/test/pos/'+file_name, 'w', encoding='utf-8') as f:\n",
    "                    f.write(dataframe.loc[i, \"Text\"])\n",
    "            elif dataframe.loc[i, \"Sentiment\"] == -1:\n",
    "                file_name = str(i) + \".txt\"\n",
    "                with open('sentiment/test/neg/'+file_name, 'w', encoding='utf-8') as f:\n",
    "                    f.write(dataframe.loc[i, \"Text\"])\n",
    "            else:\n",
    "                file_name = str(i) + \".txt\"\n",
    "                with open('sentiment/test/neu/'+file_name, 'w', encoding='utf-8') as f:\n",
    "                    f.write(dataframe.loc[i, \"Text\"])"
   ]
  },
  {
   "cell_type": "code",
   "execution_count": 4,
   "metadata": {},
   "outputs": [],
   "source": [
    "def train_bert_model():\n",
    "    AUTOTUNE = tf.data.AUTOTUNE\n",
    "    batch_size = 32\n",
    "    seed = 42\n",
    "\n",
    "    raw_train_ds = tf.keras.preprocessing.text_dataset_from_directory(\n",
    "        'sentiment/train',\n",
    "        batch_size=batch_size,\n",
    "        validation_split=0.2,\n",
    "        subset='training',\n",
    "        seed=seed)\n",
    "\n",
    "    class_names = raw_train_ds.class_names\n",
    "    train_ds = raw_train_ds.cache().prefetch(buffer_size=AUTOTUNE)\n",
    "\n",
    "    val_ds = tf.keras.preprocessing.text_dataset_from_directory(\n",
    "        'sentiment/train',\n",
    "        batch_size=batch_size,\n",
    "        validation_split=0.2,\n",
    "        subset='validation',\n",
    "        seed=seed)\n",
    "\n",
    "    val_ds = val_ds.cache().prefetch(buffer_size=AUTOTUNE)\n",
    "\n",
    "    test_ds = tf.keras.preprocessing.text_dataset_from_directory(\n",
    "        'sentiment/test',\n",
    "        batch_size=batch_size)\n",
    "\n",
    "    test_ds = test_ds.cache().prefetch(buffer_size=AUTOTUNE)\n",
    "\n",
    "    bert_model_name = 'small_bert/bert_en_uncased_L-4_H-512_A-8'\n",
    "    tfhub_handle_encoder = 'https://tfhub.dev/tensorflow/small_bert/bert_en_uncased_L-4_H-512_A-8/1'\n",
    "    tfhub_handle_preprocess = 'https://tfhub.dev/tensorflow/bert_en_uncased_preprocess/3'\n",
    "\n",
    "    bert_preprocess_model = hub.KerasLayer(tfhub_handle_preprocess)\n",
    "    bert_model = hub.KerasLayer(tfhub_handle_encoder)\n",
    "\n",
    "    text_input = tf.keras.layers.Input(shape=(), dtype=tf.string, name='text')\n",
    "    preprocessing_layer = hub.KerasLayer(tfhub_handle_preprocess, name='preprocessing')\n",
    "    encoder_inputs = preprocessing_layer(text_input)\n",
    "    encoder = hub.KerasLayer(tfhub_handle_encoder, trainable=True, name='BERT_encoder')\n",
    "    outputs = encoder(encoder_inputs)\n",
    "    net = outputs['pooled_output']\n",
    "    net = tf.keras.layers.Dropout(0.1)(net)\n",
    "    net = tf.keras.layers.Dense(3, activation='softmax', name='classifier')(net)\n",
    "    classifier_model = tf.keras.Model(text_input, net)\n",
    "\n",
    "    loss = tf.keras.losses.CategoricalCrossentropy()\n",
    "    metrics = tf.metrics.Accuracy()\n",
    "    epochs = 1\n",
    "    steps_per_epoch = tf.data.experimental.cardinality(train_ds).numpy()\n",
    "    num_train_steps = steps_per_epoch * epochs\n",
    "    num_warmup_steps = int(0.1*num_train_steps)\n",
    "    init_lr = 3e-5\n",
    "    optimizer = optimization.create_optimizer(init_lr=init_lr,\n",
    "                                              num_train_steps=num_train_steps,\n",
    "                                              num_warmup_steps=num_warmup_steps,\n",
    "                                              optimizer_type='adamw')\n",
    "\n",
    "    classifier_model.compile(optimizer='rmsprop', \n",
    "                             loss='sparse_categorical_crossentropy', \n",
    "                             metrics=['accuracy'])\n",
    "\n",
    "    print(f'Training model with {tfhub_handle_encoder}')\n",
    "    history = classifier_model.fit(x=train_ds, validation_data=val_ds, epochs=epochs)\n",
    "\n",
    "    loss, accuracy = classifier_model.evaluate(test_ds)\n",
    "    return loss, accuracy"
   ]
  },
  {
   "cell_type": "code",
   "execution_count": 5,
   "metadata": {},
   "outputs": [],
   "source": [
    "dataset = pd.read_csv('sentiment.csv')"
   ]
  },
  {
   "cell_type": "code",
   "execution_count": 6,
   "metadata": {},
   "outputs": [
    {
     "name": "stderr",
     "output_type": "stream",
     "text": [
      "  2%|▏         | 270/11970 [00:00<00:04, 2520.85it/s]"
     ]
    },
    {
     "name": "stdout",
     "output_type": "stream",
     "text": [
      "Writing files...\n"
     ]
    },
    {
     "name": "stderr",
     "output_type": "stream",
     "text": [
      "100%|██████████| 11970/11970 [00:09<00:00, 1304.08it/s]\n"
     ]
    }
   ],
   "source": [
    "write_files(dataset)"
   ]
  },
  {
   "cell_type": "code",
   "execution_count": 7,
   "metadata": {},
   "outputs": [
    {
     "name": "stdout",
     "output_type": "stream",
     "text": [
      "Found 8379 files belonging to 3 classes.\n",
      "Using 6704 files for training.\n",
      "Found 8379 files belonging to 3 classes.\n",
      "Using 1675 files for validation.\n",
      "Found 3591 files belonging to 3 classes.\n",
      "Training model with https://tfhub.dev/tensorflow/small_bert/bert_en_uncased_L-4_H-512_A-8/1\n",
      "210/210 [==============================] - 532s 3s/step - loss: 1.3358 - accuracy: 0.3385 - val_loss: 1.1686 - val_accuracy: 0.3481\n",
      "113/113 [==============================] - 70s 619ms/step - loss: 1.1740 - accuracy: 0.3386\n"
     ]
    }
   ],
   "source": [
    "loss, accuracy = train_bert_model()"
   ]
  },
  {
   "cell_type": "code",
   "execution_count": 8,
   "metadata": {},
   "outputs": [],
   "source": [
    "dataset = pd.read_csv('sentiment.csv')\n",
    "for i, v in enumerate(dataset.loc[:, \"Text\"].values):\n",
    "    v = v.lower()\n",
    "    dataset.loc[i, \"Text\"] = v"
   ]
  },
  {
   "cell_type": "code",
   "execution_count": 9,
   "metadata": {},
   "outputs": [
    {
     "name": "stderr",
     "output_type": "stream",
     "text": [
      "  2%|▏         | 246/11970 [00:00<00:07, 1608.74it/s]"
     ]
    },
    {
     "name": "stdout",
     "output_type": "stream",
     "text": [
      "Writing files...\n"
     ]
    },
    {
     "name": "stderr",
     "output_type": "stream",
     "text": [
      "100%|██████████| 11970/11970 [00:03<00:00, 3753.59it/s]\n"
     ]
    }
   ],
   "source": [
    "write_files(dataset)"
   ]
  },
  {
   "cell_type": "code",
   "execution_count": 10,
   "metadata": {},
   "outputs": [
    {
     "name": "stdout",
     "output_type": "stream",
     "text": [
      "Found 8379 files belonging to 3 classes.\n",
      "Using 6704 files for training.\n",
      "Found 8379 files belonging to 3 classes.\n",
      "Using 1675 files for validation.\n",
      "Found 3591 files belonging to 3 classes.\n",
      "Training model with https://tfhub.dev/tensorflow/small_bert/bert_en_uncased_L-4_H-512_A-8/1\n",
      "210/210 [==============================] - 601s 3s/step - loss: 1.3390 - accuracy: 0.3356 - val_loss: 1.1666 - val_accuracy: 0.3481\n",
      "113/113 [==============================] - 70s 623ms/step - loss: 1.1729 - accuracy: 0.3386\n"
     ]
    }
   ],
   "source": [
    "loss, accuracy = train_bert_model()"
   ]
  },
  {
   "cell_type": "code",
   "execution_count": 11,
   "metadata": {},
   "outputs": [],
   "source": [
    "dataset = pd.read_csv('sentiment.csv')\n",
    "for i, v in enumerate(dataset.loc[:, \"Text\"].values):\n",
    "    v = v.replace('#', ' ')\n",
    "    v = v.replace('@', ' ')\n",
    "    v = p.clean(v)\n",
    "    dataset.loc[i, \"Text\"] = v"
   ]
  },
  {
   "cell_type": "code",
   "execution_count": 12,
   "metadata": {},
   "outputs": [
    {
     "name": "stderr",
     "output_type": "stream",
     "text": [
      "  2%|▏         | 237/11970 [00:00<00:05, 2307.53it/s]"
     ]
    },
    {
     "name": "stdout",
     "output_type": "stream",
     "text": [
      "Writing files...\n"
     ]
    },
    {
     "name": "stderr",
     "output_type": "stream",
     "text": [
      "100%|██████████| 11970/11970 [00:05<00:00, 2313.46it/s]\n"
     ]
    }
   ],
   "source": [
    "write_files(dataset)"
   ]
  },
  {
   "cell_type": "code",
   "execution_count": 13,
   "metadata": {},
   "outputs": [
    {
     "name": "stdout",
     "output_type": "stream",
     "text": [
      "Found 8379 files belonging to 3 classes.\n",
      "Using 6704 files for training.\n",
      "Found 8379 files belonging to 3 classes.\n",
      "Using 1675 files for validation.\n",
      "Found 3591 files belonging to 3 classes.\n",
      "Training model with https://tfhub.dev/tensorflow/small_bert/bert_en_uncased_L-4_H-512_A-8/1\n",
      "210/210 [==============================] - 596s 3s/step - loss: 1.3035 - accuracy: 0.3413 - val_loss: 1.1467 - val_accuracy: 0.3481\n",
      "113/113 [==============================] - 72s 633ms/step - loss: 1.1514 - accuracy: 0.3386\n"
     ]
    }
   ],
   "source": [
    "loss, accuracy = train_bert_model()"
   ]
  },
  {
   "cell_type": "code",
   "execution_count": 14,
   "metadata": {},
   "outputs": [],
   "source": [
    "dataset = pd.read_csv('sentiment.csv')\n",
    "for i, v in enumerate(dataset.loc[:, \"Text\"].values):\n",
    "    v = v.replace(\"’\", \"'\")\n",
    "    for key in contractions:\n",
    "        if key in v:\n",
    "            v = re.sub(key, contractions[key], v)\n",
    "    dataset.loc[i, \"Text\"] = v"
   ]
  },
  {
   "cell_type": "code",
   "execution_count": 15,
   "metadata": {},
   "outputs": [
    {
     "name": "stderr",
     "output_type": "stream",
     "text": [
      "  2%|▏         | 260/11970 [00:00<00:04, 2598.03it/s]"
     ]
    },
    {
     "name": "stdout",
     "output_type": "stream",
     "text": [
      "Writing files...\n"
     ]
    },
    {
     "name": "stderr",
     "output_type": "stream",
     "text": [
      "100%|██████████| 11970/11970 [00:09<00:00, 1294.69it/s]\n"
     ]
    }
   ],
   "source": [
    "write_files(dataset)"
   ]
  },
  {
   "cell_type": "code",
   "execution_count": 16,
   "metadata": {},
   "outputs": [
    {
     "name": "stdout",
     "output_type": "stream",
     "text": [
      "Found 8379 files belonging to 3 classes.\n",
      "Using 6704 files for training.\n",
      "Found 8379 files belonging to 3 classes.\n",
      "Using 1675 files for validation.\n",
      "Found 3591 files belonging to 3 classes.\n",
      "Training model with https://tfhub.dev/tensorflow/small_bert/bert_en_uncased_L-4_H-512_A-8/1\n",
      "210/210 [==============================] - 594s 3s/step - loss: 1.2898 - accuracy: 0.3405 - val_loss: 1.1670 - val_accuracy: 0.3481\n",
      "113/113 [==============================] - 73s 650ms/step - loss: 1.1737 - accuracy: 0.3386\n"
     ]
    }
   ],
   "source": [
    "loss, accuracy = train_bert_model()"
   ]
  },
  {
   "cell_type": "code",
   "execution_count": 17,
   "metadata": {},
   "outputs": [
    {
     "name": "stderr",
     "output_type": "stream",
     "text": [
      "/opt/conda/lib/python3.7/site-packages/ipykernel_launcher.py:3: DeprecationWarning: invalid escape sequence '\\ '\n",
      "  This is separate from the ipykernel package so we can avoid doing imports until\n"
     ]
    }
   ],
   "source": [
    "dataset = pd.read_csv('sentiment.csv')\n",
    "for i, v in enumerate(dataset.loc[:, \"Text\"].values):\n",
    "    v = codecs.decode(v, 'unicode_escape')\n",
    "    v = emoji.demojize(v.encode('utf-16', 'surrogatepass').decode('utf-16'))\n",
    "    dataset.loc[i, \"Text\"] = v"
   ]
  },
  {
   "cell_type": "code",
   "execution_count": 18,
   "metadata": {},
   "outputs": [
    {
     "name": "stderr",
     "output_type": "stream",
     "text": [
      "  2%|▏         | 296/11970 [00:00<00:03, 2954.85it/s]"
     ]
    },
    {
     "name": "stdout",
     "output_type": "stream",
     "text": [
      "Writing files...\n"
     ]
    },
    {
     "name": "stderr",
     "output_type": "stream",
     "text": [
      "100%|██████████| 11970/11970 [00:09<00:00, 1263.24it/s]\n"
     ]
    }
   ],
   "source": [
    "write_files(dataset)"
   ]
  },
  {
   "cell_type": "code",
   "execution_count": 19,
   "metadata": {},
   "outputs": [
    {
     "name": "stdout",
     "output_type": "stream",
     "text": [
      "Found 8379 files belonging to 3 classes.\n",
      "Using 6704 files for training.\n",
      "Found 8379 files belonging to 3 classes.\n",
      "Using 1675 files for validation.\n",
      "Found 3591 files belonging to 3 classes.\n",
      "Training model with https://tfhub.dev/tensorflow/small_bert/bert_en_uncased_L-4_H-512_A-8/1\n",
      "210/210 [==============================] - 566s 3s/step - loss: 1.3328 - accuracy: 0.3317 - val_loss: 1.1266 - val_accuracy: 0.3481\n",
      "113/113 [==============================] - 70s 620ms/step - loss: 1.1294 - accuracy: 0.3386\n"
     ]
    }
   ],
   "source": [
    "loss, accuracy = train_bert_model()"
   ]
  },
  {
   "cell_type": "code",
   "execution_count": 20,
   "metadata": {},
   "outputs": [],
   "source": [
    "dataset = pd.read_csv('sentiment.csv')\n",
    "for i, v in enumerate(dataset.loc[:, \"Text\"].values):\n",
    "    v = re.sub(\"[^a-z0-9 ]\", \" \", v).strip()\n",
    "    v = re.sub(\" +\", \" \", v)\n",
    "    dataset.loc[i, \"Text\"] = v"
   ]
  },
  {
   "cell_type": "code",
   "execution_count": 21,
   "metadata": {},
   "outputs": [
    {
     "name": "stderr",
     "output_type": "stream",
     "text": [
      "  2%|▏         | 258/11970 [00:00<00:04, 2544.74it/s]"
     ]
    },
    {
     "name": "stdout",
     "output_type": "stream",
     "text": [
      "Writing files...\n"
     ]
    },
    {
     "name": "stderr",
     "output_type": "stream",
     "text": [
      "100%|██████████| 11970/11970 [00:10<00:00, 1165.29it/s]\n"
     ]
    }
   ],
   "source": [
    "write_files(dataset)"
   ]
  },
  {
   "cell_type": "code",
   "execution_count": 22,
   "metadata": {},
   "outputs": [
    {
     "name": "stdout",
     "output_type": "stream",
     "text": [
      "Found 8379 files belonging to 3 classes.\n",
      "Using 6704 files for training.\n",
      "Found 8379 files belonging to 3 classes.\n",
      "Using 1675 files for validation.\n",
      "Found 3591 files belonging to 3 classes.\n",
      "Training model with https://tfhub.dev/tensorflow/small_bert/bert_en_uncased_L-4_H-512_A-8/1\n",
      "210/210 [==============================] - 568s 3s/step - loss: 1.3494 - accuracy: 0.3322 - val_loss: 1.1309 - val_accuracy: 0.3481\n",
      "113/113 [==============================] - 70s 619ms/step - loss: 1.1356 - accuracy: 0.3386\n"
     ]
    }
   ],
   "source": [
    "loss, accuracy = train_bert_model()"
   ]
  },
  {
   "cell_type": "code",
   "execution_count": 23,
   "metadata": {},
   "outputs": [],
   "source": [
    "dataset = pd.read_csv('sentiment.csv')\n",
    "for i, v in enumerate(dataset.loc[:, \"Text\"].values):\n",
    "    temp_v = v.split()\n",
    "    l = WordNetLemmatizer()\n",
    "    v = [l.lemmatize(word) for word in temp_v if not word in stopwords]\n",
    "    v = ' '.join(v)\n",
    "    dataset.loc[i, \"Text\"] = v"
   ]
  },
  {
   "cell_type": "code",
   "execution_count": 24,
   "metadata": {},
   "outputs": [
    {
     "name": "stderr",
     "output_type": "stream",
     "text": [
      "  3%|▎         | 300/11970 [00:00<00:03, 2998.11it/s]"
     ]
    },
    {
     "name": "stdout",
     "output_type": "stream",
     "text": [
      "Writing files...\n"
     ]
    },
    {
     "name": "stderr",
     "output_type": "stream",
     "text": [
      "100%|██████████| 11970/11970 [00:10<00:00, 1161.07it/s]\n"
     ]
    }
   ],
   "source": [
    "write_files(dataset)"
   ]
  },
  {
   "cell_type": "code",
   "execution_count": 25,
   "metadata": {},
   "outputs": [
    {
     "name": "stdout",
     "output_type": "stream",
     "text": [
      "Found 8379 files belonging to 3 classes.\n",
      "Using 6704 files for training.\n",
      "Found 8379 files belonging to 3 classes.\n",
      "Using 1675 files for validation.\n",
      "Found 3591 files belonging to 3 classes.\n",
      "Training model with https://tfhub.dev/tensorflow/small_bert/bert_en_uncased_L-4_H-512_A-8/1\n",
      "210/210 [==============================] - 585s 3s/step - loss: 1.3203 - accuracy: 0.3347 - val_loss: 1.1123 - val_accuracy: 0.3481\n",
      "113/113 [==============================] - 71s 625ms/step - loss: 1.1155 - accuracy: 0.3386\n"
     ]
    }
   ],
   "source": [
    "loss, accuracy = train_bert_model()"
   ]
  },
  {
   "cell_type": "code",
   "execution_count": null,
   "metadata": {},
   "outputs": [],
   "source": []
  }
 ],
 "metadata": {
  "kernelspec": {
   "display_name": "Python 3",
   "language": "python",
   "name": "python3"
  },
  "language_info": {
   "codemirror_mode": {
    "name": "ipython",
    "version": 3
   },
   "file_extension": ".py",
   "mimetype": "text/x-python",
   "name": "python",
   "nbconvert_exporter": "python",
   "pygments_lexer": "ipython3",
   "version": "3.7.3"
  }
 },
 "nbformat": 4,
 "nbformat_minor": 5
}
